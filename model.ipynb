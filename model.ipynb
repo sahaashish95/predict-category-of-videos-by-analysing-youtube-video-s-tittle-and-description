{
 "cells": [
  {
   "cell_type": "code",
   "execution_count": 2,
   "metadata": {},
   "outputs": [],
   "source": [
    "import numpy as np\n",
    "import matplotlib.pyplot as plt\n",
    "import pandas as pd\n",
    "from sklearn.model_selection import train_test_split"
   ]
  },
  {
   "cell_type": "code",
   "execution_count": 4,
   "metadata": {},
   "outputs": [],
   "source": [
    "dataset = pd.read_csv(r'C:\\Users\\ashish saha\\Desktop\\youtube\\zcsv\\combine.csv')"
   ]
  },
  {
   "cell_type": "code",
   "execution_count": 5,
   "metadata": {},
   "outputs": [
    {
     "data": {
      "text/html": [
       "<div>\n",
       "<style scoped>\n",
       "    .dataframe tbody tr th:only-of-type {\n",
       "        vertical-align: middle;\n",
       "    }\n",
       "\n",
       "    .dataframe tbody tr th {\n",
       "        vertical-align: top;\n",
       "    }\n",
       "\n",
       "    .dataframe thead th {\n",
       "        text-align: right;\n",
       "    }\n",
       "</style>\n",
       "<table border=\"1\" class=\"dataframe\">\n",
       "  <thead>\n",
       "    <tr style=\"text-align: right;\">\n",
       "      <th></th>\n",
       "      <th>video id</th>\n",
       "      <th>Title</th>\n",
       "      <th>Description</th>\n",
       "      <th>Category</th>\n",
       "    </tr>\n",
       "  </thead>\n",
       "  <tbody>\n",
       "    <tr>\n",
       "      <th>0</th>\n",
       "      <td>https://www.youtube.com/watch?v=13E5azGDK1k</td>\n",
       "      <td>FINE ART Music and Painting PEACEFUL SELECTION...</td>\n",
       "      <td>CALM MELODIES AND BEAUTIFUL PICTURES Debussy, ...</td>\n",
       "      <td>Art and Music</td>\n",
       "    </tr>\n",
       "    <tr>\n",
       "      <th>1</th>\n",
       "      <td>https://www.youtube.com/user/MusicArtsFamily</td>\n",
       "      <td>Music &amp; Arts</td>\n",
       "      <td>The first Music &amp; Arts, which opened in 1952, ...</td>\n",
       "      <td>Art and Music</td>\n",
       "    </tr>\n",
       "    <tr>\n",
       "      <th>2</th>\n",
       "      <td>https://www.youtube.com/watch?v=Xpgtc4o0o8U</td>\n",
       "      <td>Bihar Board Inter Arts Music SET 2 Model Paper...</td>\n",
       "      <td>Downloading Links- https://goo.gl/AMdF47.</td>\n",
       "      <td>Art and Music</td>\n",
       "    </tr>\n",
       "    <tr>\n",
       "      <th>3</th>\n",
       "      <td>https://www.youtube.com/watch?v=23Ylz5_96XU</td>\n",
       "      <td>Peaceful, Creative Focus Music: for Reading, s...</td>\n",
       "      <td>Wishing you better sleep, peaceful meditations...</td>\n",
       "      <td>Art and Music</td>\n",
       "    </tr>\n",
       "    <tr>\n",
       "      <th>4</th>\n",
       "      <td>https://www.youtube.com/watch?v=AffnM5_Pk38</td>\n",
       "      <td>Ambient Music ~ Space Traveling ~ Background f...</td>\n",
       "      <td>Welcome to Deep Relaxing Space Ambient Music. ...</td>\n",
       "      <td>Art and Music</td>\n",
       "    </tr>\n",
       "  </tbody>\n",
       "</table>\n",
       "</div>"
      ],
      "text/plain": [
       "                                       video id  \\\n",
       "0   https://www.youtube.com/watch?v=13E5azGDK1k   \n",
       "1  https://www.youtube.com/user/MusicArtsFamily   \n",
       "2   https://www.youtube.com/watch?v=Xpgtc4o0o8U   \n",
       "3   https://www.youtube.com/watch?v=23Ylz5_96XU   \n",
       "4   https://www.youtube.com/watch?v=AffnM5_Pk38   \n",
       "\n",
       "                                               Title  \\\n",
       "0  FINE ART Music and Painting PEACEFUL SELECTION...   \n",
       "1                                       Music & Arts   \n",
       "2  Bihar Board Inter Arts Music SET 2 Model Paper...   \n",
       "3  Peaceful, Creative Focus Music: for Reading, s...   \n",
       "4  Ambient Music ~ Space Traveling ~ Background f...   \n",
       "\n",
       "                                         Description       Category  \n",
       "0  CALM MELODIES AND BEAUTIFUL PICTURES Debussy, ...  Art and Music  \n",
       "1  The first Music & Arts, which opened in 1952, ...  Art and Music  \n",
       "2          Downloading Links- https://goo.gl/AMdF47.  Art and Music  \n",
       "3  Wishing you better sleep, peaceful meditations...  Art and Music  \n",
       "4  Welcome to Deep Relaxing Space Ambient Music. ...  Art and Music  "
      ]
     },
     "execution_count": 5,
     "metadata": {},
     "output_type": "execute_result"
    }
   ],
   "source": [
    "dataset.head()"
   ]
  },
  {
   "cell_type": "markdown",
   "metadata": {},
   "source": [
    "now we add title and description coloumn by adding these two coloumn store insame dataset"
   ]
  },
  {
   "cell_type": "code",
   "execution_count": 6,
   "metadata": {},
   "outputs": [],
   "source": [
    "dataset['Title'+ 'Description']=dataset['Title'] + ' ' + dataset['Description']"
   ]
  },
  {
   "cell_type": "code",
   "execution_count": 7,
   "metadata": {},
   "outputs": [
    {
     "data": {
      "text/html": [
       "<div>\n",
       "<style scoped>\n",
       "    .dataframe tbody tr th:only-of-type {\n",
       "        vertical-align: middle;\n",
       "    }\n",
       "\n",
       "    .dataframe tbody tr th {\n",
       "        vertical-align: top;\n",
       "    }\n",
       "\n",
       "    .dataframe thead th {\n",
       "        text-align: right;\n",
       "    }\n",
       "</style>\n",
       "<table border=\"1\" class=\"dataframe\">\n",
       "  <thead>\n",
       "    <tr style=\"text-align: right;\">\n",
       "      <th></th>\n",
       "      <th>video id</th>\n",
       "      <th>Title</th>\n",
       "      <th>Description</th>\n",
       "      <th>Category</th>\n",
       "      <th>TitleDescription</th>\n",
       "    </tr>\n",
       "  </thead>\n",
       "  <tbody>\n",
       "    <tr>\n",
       "      <th>0</th>\n",
       "      <td>https://www.youtube.com/watch?v=13E5azGDK1k</td>\n",
       "      <td>FINE ART Music and Painting PEACEFUL SELECTION...</td>\n",
       "      <td>CALM MELODIES AND BEAUTIFUL PICTURES Debussy, ...</td>\n",
       "      <td>Art and Music</td>\n",
       "      <td>FINE ART Music and Painting PEACEFUL SELECTION...</td>\n",
       "    </tr>\n",
       "    <tr>\n",
       "      <th>1</th>\n",
       "      <td>https://www.youtube.com/user/MusicArtsFamily</td>\n",
       "      <td>Music &amp; Arts</td>\n",
       "      <td>The first Music &amp; Arts, which opened in 1952, ...</td>\n",
       "      <td>Art and Music</td>\n",
       "      <td>Music &amp; Arts The first Music &amp; Arts, which ope...</td>\n",
       "    </tr>\n",
       "    <tr>\n",
       "      <th>2</th>\n",
       "      <td>https://www.youtube.com/watch?v=Xpgtc4o0o8U</td>\n",
       "      <td>Bihar Board Inter Arts Music SET 2 Model Paper...</td>\n",
       "      <td>Downloading Links- https://goo.gl/AMdF47.</td>\n",
       "      <td>Art and Music</td>\n",
       "      <td>Bihar Board Inter Arts Music SET 2 Model Paper...</td>\n",
       "    </tr>\n",
       "    <tr>\n",
       "      <th>3</th>\n",
       "      <td>https://www.youtube.com/watch?v=23Ylz5_96XU</td>\n",
       "      <td>Peaceful, Creative Focus Music: for Reading, s...</td>\n",
       "      <td>Wishing you better sleep, peaceful meditations...</td>\n",
       "      <td>Art and Music</td>\n",
       "      <td>Peaceful, Creative Focus Music: for Reading, s...</td>\n",
       "    </tr>\n",
       "    <tr>\n",
       "      <th>4</th>\n",
       "      <td>https://www.youtube.com/watch?v=AffnM5_Pk38</td>\n",
       "      <td>Ambient Music ~ Space Traveling ~ Background f...</td>\n",
       "      <td>Welcome to Deep Relaxing Space Ambient Music. ...</td>\n",
       "      <td>Art and Music</td>\n",
       "      <td>Ambient Music ~ Space Traveling ~ Background f...</td>\n",
       "    </tr>\n",
       "  </tbody>\n",
       "</table>\n",
       "</div>"
      ],
      "text/plain": [
       "                                       video id  \\\n",
       "0   https://www.youtube.com/watch?v=13E5azGDK1k   \n",
       "1  https://www.youtube.com/user/MusicArtsFamily   \n",
       "2   https://www.youtube.com/watch?v=Xpgtc4o0o8U   \n",
       "3   https://www.youtube.com/watch?v=23Ylz5_96XU   \n",
       "4   https://www.youtube.com/watch?v=AffnM5_Pk38   \n",
       "\n",
       "                                               Title  \\\n",
       "0  FINE ART Music and Painting PEACEFUL SELECTION...   \n",
       "1                                       Music & Arts   \n",
       "2  Bihar Board Inter Arts Music SET 2 Model Paper...   \n",
       "3  Peaceful, Creative Focus Music: for Reading, s...   \n",
       "4  Ambient Music ~ Space Traveling ~ Background f...   \n",
       "\n",
       "                                         Description       Category  \\\n",
       "0  CALM MELODIES AND BEAUTIFUL PICTURES Debussy, ...  Art and Music   \n",
       "1  The first Music & Arts, which opened in 1952, ...  Art and Music   \n",
       "2          Downloading Links- https://goo.gl/AMdF47.  Art and Music   \n",
       "3  Wishing you better sleep, peaceful meditations...  Art and Music   \n",
       "4  Welcome to Deep Relaxing Space Ambient Music. ...  Art and Music   \n",
       "\n",
       "                                    TitleDescription  \n",
       "0  FINE ART Music and Painting PEACEFUL SELECTION...  \n",
       "1  Music & Arts The first Music & Arts, which ope...  \n",
       "2  Bihar Board Inter Arts Music SET 2 Model Paper...  \n",
       "3  Peaceful, Creative Focus Music: for Reading, s...  \n",
       "4  Ambient Music ~ Space Traveling ~ Background f...  "
      ]
     },
     "execution_count": 7,
     "metadata": {},
     "output_type": "execute_result"
    }
   ],
   "source": [
    "dataset.head()"
   ]
  },
  {
   "cell_type": "markdown",
   "metadata": {},
   "source": [
    "Now we can see a new coloumn(TitleDescription is add in our dataset)"
   ]
  },
  {
   "cell_type": "code",
   "execution_count": 8,
   "metadata": {},
   "outputs": [
    {
     "data": {
      "text/plain": [
       "video id              0\n",
       "Title                 1\n",
       "Description         144\n",
       "Category            145\n",
       "TitleDescription    144\n",
       "dtype: int64"
      ]
     },
     "execution_count": 8,
     "metadata": {},
     "output_type": "execute_result"
    }
   ],
   "source": [
    "#now checking Null value\n",
    "dataset.isnull().sum()"
   ]
  },
  {
   "cell_type": "code",
   "execution_count": 9,
   "metadata": {},
   "outputs": [],
   "source": [
    "#there are some null values so we drop rows which have null values\n",
    "dataset=dataset.dropna()"
   ]
  },
  {
   "cell_type": "code",
   "execution_count": 10,
   "metadata": {},
   "outputs": [
    {
     "data": {
      "text/plain": [
       "video id            0\n",
       "Title               0\n",
       "Description         0\n",
       "Category            0\n",
       "TitleDescription    0\n",
       "dtype: int64"
      ]
     },
     "execution_count": 10,
     "metadata": {},
     "output_type": "execute_result"
    }
   ],
   "source": [
    "dataset.isnull().sum()"
   ]
  },
  {
   "cell_type": "markdown",
   "metadata": {},
   "source": [
    "No null values in our dataset"
   ]
  },
  {
   "cell_type": "code",
   "execution_count": 11,
   "metadata": {},
   "outputs": [],
   "source": [
    "#select output coloumn and convert in to dataframe\n",
    "y=dataset.iloc[:,[3]].values\n",
    "y=pd.DataFrame(y)"
   ]
  },
  {
   "cell_type": "code",
   "execution_count": 12,
   "metadata": {},
   "outputs": [
    {
     "data": {
      "text/html": [
       "<div>\n",
       "<style scoped>\n",
       "    .dataframe tbody tr th:only-of-type {\n",
       "        vertical-align: middle;\n",
       "    }\n",
       "\n",
       "    .dataframe tbody tr th {\n",
       "        vertical-align: top;\n",
       "    }\n",
       "\n",
       "    .dataframe thead th {\n",
       "        text-align: right;\n",
       "    }\n",
       "</style>\n",
       "<table border=\"1\" class=\"dataframe\">\n",
       "  <thead>\n",
       "    <tr style=\"text-align: right;\">\n",
       "      <th></th>\n",
       "      <th>0</th>\n",
       "    </tr>\n",
       "  </thead>\n",
       "  <tbody>\n",
       "    <tr>\n",
       "      <th>0</th>\n",
       "      <td>Art and Music</td>\n",
       "    </tr>\n",
       "    <tr>\n",
       "      <th>1</th>\n",
       "      <td>Art and Music</td>\n",
       "    </tr>\n",
       "    <tr>\n",
       "      <th>2</th>\n",
       "      <td>Art and Music</td>\n",
       "    </tr>\n",
       "    <tr>\n",
       "      <th>3</th>\n",
       "      <td>Art and Music</td>\n",
       "    </tr>\n",
       "    <tr>\n",
       "      <th>4</th>\n",
       "      <td>Art and Music</td>\n",
       "    </tr>\n",
       "    <tr>\n",
       "      <th>5</th>\n",
       "      <td>Art and Music</td>\n",
       "    </tr>\n",
       "    <tr>\n",
       "      <th>6</th>\n",
       "      <td>Art and Music</td>\n",
       "    </tr>\n",
       "    <tr>\n",
       "      <th>7</th>\n",
       "      <td>Art and Music</td>\n",
       "    </tr>\n",
       "    <tr>\n",
       "      <th>8</th>\n",
       "      <td>Art and Music</td>\n",
       "    </tr>\n",
       "    <tr>\n",
       "      <th>9</th>\n",
       "      <td>Art and Music</td>\n",
       "    </tr>\n",
       "    <tr>\n",
       "      <th>10</th>\n",
       "      <td>Art and Music</td>\n",
       "    </tr>\n",
       "    <tr>\n",
       "      <th>11</th>\n",
       "      <td>Art and Music</td>\n",
       "    </tr>\n",
       "    <tr>\n",
       "      <th>12</th>\n",
       "      <td>Art and Music</td>\n",
       "    </tr>\n",
       "    <tr>\n",
       "      <th>13</th>\n",
       "      <td>Art and Music</td>\n",
       "    </tr>\n",
       "    <tr>\n",
       "      <th>14</th>\n",
       "      <td>Art and Music</td>\n",
       "    </tr>\n",
       "    <tr>\n",
       "      <th>15</th>\n",
       "      <td>Art and Music</td>\n",
       "    </tr>\n",
       "    <tr>\n",
       "      <th>16</th>\n",
       "      <td>Art and Music</td>\n",
       "    </tr>\n",
       "    <tr>\n",
       "      <th>17</th>\n",
       "      <td>Art and Music</td>\n",
       "    </tr>\n",
       "    <tr>\n",
       "      <th>18</th>\n",
       "      <td>Art and Music</td>\n",
       "    </tr>\n",
       "    <tr>\n",
       "      <th>19</th>\n",
       "      <td>Art and Music</td>\n",
       "    </tr>\n",
       "    <tr>\n",
       "      <th>20</th>\n",
       "      <td>Art and Music</td>\n",
       "    </tr>\n",
       "    <tr>\n",
       "      <th>21</th>\n",
       "      <td>Art and Music</td>\n",
       "    </tr>\n",
       "    <tr>\n",
       "      <th>22</th>\n",
       "      <td>Art and Music</td>\n",
       "    </tr>\n",
       "    <tr>\n",
       "      <th>23</th>\n",
       "      <td>Art and Music</td>\n",
       "    </tr>\n",
       "    <tr>\n",
       "      <th>24</th>\n",
       "      <td>Art and Music</td>\n",
       "    </tr>\n",
       "    <tr>\n",
       "      <th>25</th>\n",
       "      <td>Art and Music</td>\n",
       "    </tr>\n",
       "    <tr>\n",
       "      <th>26</th>\n",
       "      <td>Art and Music</td>\n",
       "    </tr>\n",
       "    <tr>\n",
       "      <th>27</th>\n",
       "      <td>Art and Music</td>\n",
       "    </tr>\n",
       "    <tr>\n",
       "      <th>28</th>\n",
       "      <td>Art and Music</td>\n",
       "    </tr>\n",
       "    <tr>\n",
       "      <th>29</th>\n",
       "      <td>Art and Music</td>\n",
       "    </tr>\n",
       "    <tr>\n",
       "      <th>...</th>\n",
       "      <td>...</td>\n",
       "    </tr>\n",
       "    <tr>\n",
       "      <th>10760</th>\n",
       "      <td>Travel Blogs</td>\n",
       "    </tr>\n",
       "    <tr>\n",
       "      <th>10761</th>\n",
       "      <td>Travel Blogs</td>\n",
       "    </tr>\n",
       "    <tr>\n",
       "      <th>10762</th>\n",
       "      <td>Travel Blogs</td>\n",
       "    </tr>\n",
       "    <tr>\n",
       "      <th>10763</th>\n",
       "      <td>Travel Blogs</td>\n",
       "    </tr>\n",
       "    <tr>\n",
       "      <th>10764</th>\n",
       "      <td>Travel Blogs</td>\n",
       "    </tr>\n",
       "    <tr>\n",
       "      <th>10765</th>\n",
       "      <td>Travel Blogs</td>\n",
       "    </tr>\n",
       "    <tr>\n",
       "      <th>10766</th>\n",
       "      <td>Travel Blogs</td>\n",
       "    </tr>\n",
       "    <tr>\n",
       "      <th>10767</th>\n",
       "      <td>Travel Blogs</td>\n",
       "    </tr>\n",
       "    <tr>\n",
       "      <th>10768</th>\n",
       "      <td>Travel Blogs</td>\n",
       "    </tr>\n",
       "    <tr>\n",
       "      <th>10769</th>\n",
       "      <td>Travel Blogs</td>\n",
       "    </tr>\n",
       "    <tr>\n",
       "      <th>10770</th>\n",
       "      <td>Travel Blogs</td>\n",
       "    </tr>\n",
       "    <tr>\n",
       "      <th>10771</th>\n",
       "      <td>Travel Blogs</td>\n",
       "    </tr>\n",
       "    <tr>\n",
       "      <th>10772</th>\n",
       "      <td>Travel Blogs</td>\n",
       "    </tr>\n",
       "    <tr>\n",
       "      <th>10773</th>\n",
       "      <td>Travel Blogs</td>\n",
       "    </tr>\n",
       "    <tr>\n",
       "      <th>10774</th>\n",
       "      <td>Travel Blogs</td>\n",
       "    </tr>\n",
       "    <tr>\n",
       "      <th>10775</th>\n",
       "      <td>Travel Blogs</td>\n",
       "    </tr>\n",
       "    <tr>\n",
       "      <th>10776</th>\n",
       "      <td>Travel Blogs</td>\n",
       "    </tr>\n",
       "    <tr>\n",
       "      <th>10777</th>\n",
       "      <td>Travel Blogs</td>\n",
       "    </tr>\n",
       "    <tr>\n",
       "      <th>10778</th>\n",
       "      <td>Travel Blogs</td>\n",
       "    </tr>\n",
       "    <tr>\n",
       "      <th>10779</th>\n",
       "      <td>Travel Blogs</td>\n",
       "    </tr>\n",
       "    <tr>\n",
       "      <th>10780</th>\n",
       "      <td>Travel Blogs</td>\n",
       "    </tr>\n",
       "    <tr>\n",
       "      <th>10781</th>\n",
       "      <td>Travel Blogs</td>\n",
       "    </tr>\n",
       "    <tr>\n",
       "      <th>10782</th>\n",
       "      <td>Travel Blogs</td>\n",
       "    </tr>\n",
       "    <tr>\n",
       "      <th>10783</th>\n",
       "      <td>Travel Blogs</td>\n",
       "    </tr>\n",
       "    <tr>\n",
       "      <th>10784</th>\n",
       "      <td>Travel Blogs</td>\n",
       "    </tr>\n",
       "    <tr>\n",
       "      <th>10785</th>\n",
       "      <td>Travel Blogs</td>\n",
       "    </tr>\n",
       "    <tr>\n",
       "      <th>10786</th>\n",
       "      <td>Travel Blogs</td>\n",
       "    </tr>\n",
       "    <tr>\n",
       "      <th>10787</th>\n",
       "      <td>Travel Blogs</td>\n",
       "    </tr>\n",
       "    <tr>\n",
       "      <th>10788</th>\n",
       "      <td>Travel Blogs</td>\n",
       "    </tr>\n",
       "    <tr>\n",
       "      <th>10789</th>\n",
       "      <td>Travel Blogs</td>\n",
       "    </tr>\n",
       "  </tbody>\n",
       "</table>\n",
       "<p>10790 rows × 1 columns</p>\n",
       "</div>"
      ],
      "text/plain": [
       "                   0\n",
       "0      Art and Music\n",
       "1      Art and Music\n",
       "2      Art and Music\n",
       "3      Art and Music\n",
       "4      Art and Music\n",
       "5      Art and Music\n",
       "6      Art and Music\n",
       "7      Art and Music\n",
       "8      Art and Music\n",
       "9      Art and Music\n",
       "10     Art and Music\n",
       "11     Art and Music\n",
       "12     Art and Music\n",
       "13     Art and Music\n",
       "14     Art and Music\n",
       "15     Art and Music\n",
       "16     Art and Music\n",
       "17     Art and Music\n",
       "18     Art and Music\n",
       "19     Art and Music\n",
       "20     Art and Music\n",
       "21     Art and Music\n",
       "22     Art and Music\n",
       "23     Art and Music\n",
       "24     Art and Music\n",
       "25     Art and Music\n",
       "26     Art and Music\n",
       "27     Art and Music\n",
       "28     Art and Music\n",
       "29     Art and Music\n",
       "...              ...\n",
       "10760   Travel Blogs\n",
       "10761   Travel Blogs\n",
       "10762   Travel Blogs\n",
       "10763   Travel Blogs\n",
       "10764   Travel Blogs\n",
       "10765   Travel Blogs\n",
       "10766   Travel Blogs\n",
       "10767   Travel Blogs\n",
       "10768   Travel Blogs\n",
       "10769   Travel Blogs\n",
       "10770   Travel Blogs\n",
       "10771   Travel Blogs\n",
       "10772   Travel Blogs\n",
       "10773   Travel Blogs\n",
       "10774   Travel Blogs\n",
       "10775   Travel Blogs\n",
       "10776   Travel Blogs\n",
       "10777   Travel Blogs\n",
       "10778   Travel Blogs\n",
       "10779   Travel Blogs\n",
       "10780   Travel Blogs\n",
       "10781   Travel Blogs\n",
       "10782   Travel Blogs\n",
       "10783   Travel Blogs\n",
       "10784   Travel Blogs\n",
       "10785   Travel Blogs\n",
       "10786   Travel Blogs\n",
       "10787   Travel Blogs\n",
       "10788   Travel Blogs\n",
       "10789   Travel Blogs\n",
       "\n",
       "[10790 rows x 1 columns]"
      ]
     },
     "execution_count": 12,
     "metadata": {},
     "output_type": "execute_result"
    }
   ],
   "source": [
    "#now we seperate the category\n",
    "y"
   ]
  },
  {
   "cell_type": "code",
   "execution_count": 13,
   "metadata": {},
   "outputs": [
    {
     "name": "stdout",
     "output_type": "stream",
     "text": [
      "[nltk_data] Downloading package stopwords to C:\\Users\\ashish\n",
      "[nltk_data]     saha\\AppData\\Roaming\\nltk_data...\n",
      "[nltk_data]   Package stopwords is already up-to-date!\n"
     ]
    }
   ],
   "source": [
    "#now cleaning process\n",
    "import re\n",
    "import nltk\n",
    "nltk.download('stopwords')\n",
    "from nltk.corpus import stopwords\n",
    "from nltk.stem.porter import PorterStemmer\n",
    "corpus = []\n",
    "for i in range(0, 10790):\n",
    "    review = re.sub('[^a-zA-Z]', ' ', str(dataset['TitleDescription'][i]))\n",
    "    review = review.lower()\n",
    "    review = review.split()\n",
    "    ps = PorterStemmer()\n",
    "    review = [ps.stem(word) for word in review if not word in set(stopwords.words('english'))]\n",
    "    review = ' '.join(review)\n",
    "    corpus.append(review)"
   ]
  },
  {
   "cell_type": "code",
   "execution_count": 14,
   "metadata": {},
   "outputs": [],
   "source": [
    "#Convert text into Bag of words\n",
    "from sklearn.feature_extraction.text import CountVectorizer\n",
    "vocab = CountVectorizer(ngram_range=[1,2])\n",
    "X = vocab.fit_transform(corpus).toarray()"
   ]
  },
  {
   "cell_type": "code",
   "execution_count": 15,
   "metadata": {},
   "outputs": [],
   "source": [
    "#splitting the dataset into training set and test set\n",
    "X_train, X_test, y_train, y_test = train_test_split(X, y, test_size=0.2)"
   ]
  },
  {
   "cell_type": "code",
   "execution_count": 16,
   "metadata": {},
   "outputs": [
    {
     "name": "stderr",
     "output_type": "stream",
     "text": [
      "C:\\Users\\ashish saha\\Anaconda3\\lib\\site-packages\\sklearn\\utils\\validation.py:578: DataConversionWarning: A column-vector y was passed when a 1d array was expected. Please change the shape of y to (n_samples, ), for example using ravel().\n",
      "  y = column_or_1d(y, warn=True)\n"
     ]
    },
    {
     "data": {
      "text/plain": [
       "GaussianNB(priors=None)"
      ]
     },
     "execution_count": 16,
     "metadata": {},
     "output_type": "execute_result"
    }
   ],
   "source": [
    "#Now we use naive bayes algorithm\n",
    "from sklearn.naive_bayes import GaussianNB\n",
    "classifier = GaussianNB()\n",
    "classifier.fit(X_train, y_train) "
   ]
  },
  {
   "cell_type": "code",
   "execution_count": 17,
   "metadata": {},
   "outputs": [],
   "source": [
    "y_pred = classifier.predict(X_test)"
   ]
  },
  {
   "cell_type": "code",
   "execution_count": 19,
   "metadata": {},
   "outputs": [
    {
     "name": "stdout",
     "output_type": "stream",
     "text": [
      "precision: [1.         0.99455041 1.         0.99468085 1.         1.        ]\n",
      "recall: [1.         1.         0.99076212 1.         1.         1.        ]\n",
      "fscore: [1.         0.99726776 0.99535963 0.99733333 1.         1.        ]\n",
      "support: [347 365 433 374 285 354]\n"
     ]
    }
   ],
   "source": [
    "#Now find f score\n",
    "from sklearn.metrics import precision_recall_fscore_support as score\n",
    "precision, recall, fscore, support = score(y_test, y_pred)\n",
    "print('precision: {}'.format(precision))\n",
    "print('recall: {}'.format(recall))\n",
    "print('fscore: {}'.format(fscore))\n",
    "print('support: {}'.format(support))"
   ]
  },
  {
   "cell_type": "code",
   "execution_count": 20,
   "metadata": {},
   "outputs": [],
   "source": [
    "#For plot of F1 score we can use lineplot\n",
    "import seaborn as sns\n",
    "sns.lineplot(x=\"y_pred\", y=\"fscore\", data=dataset)"
   ]
  },
  {
   "cell_type": "code",
   "execution_count": 22,
   "metadata": {},
   "outputs": [
    {
     "name": "stderr",
     "output_type": "stream",
     "text": [
      "C:\\Users\\ashish saha\\Anaconda3\\lib\\site-packages\\ipykernel_launcher.py:3: DataConversionWarning: A column-vector y was passed when a 1d array was expected. Please change the shape of y to (n_samples,), for example using ravel().\n",
      "  This is separate from the ipykernel package so we can avoid doing imports until\n"
     ]
    },
    {
     "data": {
      "text/plain": [
       "RandomForestClassifier(bootstrap=True, class_weight=None, criterion='entropy',\n",
       "            max_depth=None, max_features='auto', max_leaf_nodes=None,\n",
       "            min_impurity_decrease=0.0, min_impurity_split=None,\n",
       "            min_samples_leaf=1, min_samples_split=2,\n",
       "            min_weight_fraction_leaf=0.0, n_estimators=10, n_jobs=1,\n",
       "            oob_score=False, random_state=0, verbose=0, warm_start=False)"
      ]
     },
     "execution_count": 22,
     "metadata": {},
     "output_type": "execute_result"
    }
   ],
   "source": [
    "#Now we use Random Forest algorithm\n",
    "from sklearn.ensemble import RandomForestClassifier\n",
    "classifier1= RandomForestClassifier(n_estimators=10, criterion='entropy', random_state=0)\n",
    "classifier1.fit(X_train, y_train)"
   ]
  },
  {
   "cell_type": "code",
   "execution_count": 24,
   "metadata": {},
   "outputs": [],
   "source": [
    "y_pred1= classifier1.predict(X_test)"
   ]
  },
  {
   "cell_type": "code",
   "execution_count": 25,
   "metadata": {},
   "outputs": [
    {
     "name": "stdout",
     "output_type": "stream",
     "text": [
      "precision: [1.         0.97849462 0.99531616 0.98941799 1.         1.        ]\n",
      "recall: [1.         0.99726027 0.98152425 1.         0.98596491 0.99717514]\n",
      "fscore: [1.         0.98778833 0.98837209 0.99468085 0.99293286 0.99858557]\n",
      "support: [347 365 433 374 285 354]\n"
     ]
    }
   ],
   "source": [
    "#for getting precision and recall of model\n",
    "from sklearn.metrics import precision_recall_fscore_support as score\n",
    "precision, recall, fscore, support = score(y_test, y_pred1)\n",
    "print('precision: {}'.format(precision))\n",
    "print('recall: {}'.format(recall))\n",
    "print('fscore: {}'.format(fscore))\n",
    "print('support: {}'.format(support))"
   ]
  },
  {
   "cell_type": "code",
   "execution_count": 26,
   "metadata": {},
   "outputs": [],
   "source": [
    "#For plot of F1 score we can use lineplot\n",
    "import seaborn as sns\n",
    "sns.lineplot(x=\"y_pred1\", y=\"fscore\", data=dataset)"
   ]
  },
  {
   "cell_type": "code",
   "execution_count": 27,
   "metadata": {},
   "outputs": [
    {
     "data": {
      "text/plain": [
       "'import keras\\nfrom keras.models import Sequential\\nfrom keras.layers import Dense\\n#Intialising the ANN\\nclassifier2=Sequential()\\n#Adding the input and first hidden layer\\nclassifier2.add(Dense(output_dim = 6, init=\\'uniform\\', activation = \\'relu\\', input_dim=11))\\n#Adding the second hidden layer\\nclassifier2.add(Dense(output_dim = 6, init=\\'uniform\\', activation = \\'relu\\'))\\n#Adding the output layer\\nclassifier2.add(Dense(output_dim = 6, init=\\'uniform\\', activation = \\'sigmoid\\'))\\n#compiling the ann\\nclassifier2.compile(optimizer = \\'adam\\', loss = \\'categorical_crossentropy\\', metrics = [\\'accuracy\\'])\\nclassifier2.fit(X_train, batch_size=10, nb_epoch=100)\\ny_pred2= classifier2.predict(X_test)\\n#for precision and recall\\nfrom sklearn.metrics import precision_recall_fscore_support as score\\nprecision, recall, fscore, support = score(y_test, y_pred1)\\nprint(\\'precision: {}\\'.format(precision))\\nprint(\\'recall: {}\\'.format(recall))\\nprint(\\'fscore: {}\\'.format(fscore))\\nprint(\\'support: {}\\'.format(support))\\n#For plot of F1 score we can use lineplot\\nimport seaborn as sns\\nsns.lineplot(x=\"y_pred2\", y=\"fscore\", data=dataset)'"
      ]
     },
     "execution_count": 27,
     "metadata": {},
     "output_type": "execute_result"
    }
   ],
   "source": [
    "'''import keras\n",
    "from keras.models import Sequential\n",
    "from keras.layers import Dense\n",
    "#Intialising the ANN\n",
    "classifier2=Sequential()\n",
    "#Adding the input and first hidden layer\n",
    "classifier2.add(Dense(output_dim = 6, init='uniform', activation = 'relu', input_dim=11))\n",
    "#Adding the second hidden layer\n",
    "classifier2.add(Dense(output_dim = 6, init='uniform', activation = 'relu'))\n",
    "#Adding the output layer\n",
    "classifier2.add(Dense(output_dim = 6, init='uniform', activation = 'sigmoid'))\n",
    "#compiling the ann\n",
    "classifier2.compile(optimizer = 'adam', loss = 'categorical_crossentropy', metrics = ['accuracy'])\n",
    "classifier2.fit(X_train, batch_size=10, nb_epoch=100)\n",
    "y_pred2= classifier2.predict(X_test)\n",
    "#for precision and recall\n",
    "from sklearn.metrics import precision_recall_fscore_support as score\n",
    "precision, recall, fscore, support = score(y_test, y_pred1)\n",
    "print('precision: {}'.format(precision))\n",
    "print('recall: {}'.format(recall))\n",
    "print('fscore: {}'.format(fscore))\n",
    "print('support: {}'.format(support))\n",
    "#For plot of F1 score we can use lineplot\n",
    "import seaborn as sns\n",
    "sns.lineplot(x=\"y_pred2\", y=\"fscore\", data=dataset)'''"
   ]
  },
  {
   "cell_type": "code",
   "execution_count": 31,
   "metadata": {},
   "outputs": [
    {
     "name": "stdout",
     "output_type": "stream",
     "text": [
      "********************************************************************************************************************************************************************************************************************************************************************************************************************************************************************************************************************************************************************************************************************\n"
     ]
    }
   ],
   "source": [
    "\n",
    "print('*'*500)\n"
   ]
  },
  {
   "cell_type": "markdown",
   "metadata": {},
   "source": [
    "Report\n",
    "\n",
    "\n",
    "Ist we choose Naive -Bayes because it give more accuracy then another svm and linear classifier,2nd Model i choose Random forest classification , i read that for text classification naive-bayes and bagging technique work better. i work on another project that also same related to text and during doing that project i experience that naive bayes(because of probabilitic approach it work better) and random forest (due to majority of vote type work)it work better for text classification. \n",
    "you can check my project on my github repositorythat i earlier done i mostly used naive bayes and random forest.\n",
    "\n",
    "last I use artificial neural network for my model , i use this because convolution neural network is mostly used for image classification and  RNNs are designed to make use of sequential data, when the current step has some kind of relation with the previous steps .our classifier is simple so i use ann for my model\n",
    "\n",
    "Result\n",
    "\n",
    "My all model give same accuracy approx. 99 percent , I analyse that this is due to repition in my fetched data and we can correct our model by change code so that not get duplicate value during fetching . we can delete duplicate value and again fetch more data\n"
   ]
  },
  {
   "cell_type": "code",
   "execution_count": null,
   "metadata": {},
   "outputs": [],
   "source": []
  }
 ],
 "metadata": {
  "kernelspec": {
   "display_name": "Python 3",
   "language": "python",
   "name": "python3"
  },
  "language_info": {
   "codemirror_mode": {
    "name": "ipython",
    "version": 3
   },
   "file_extension": ".py",
   "mimetype": "text/x-python",
   "name": "python",
   "nbconvert_exporter": "python",
   "pygments_lexer": "ipython3",
   "version": "3.6.5"
  }
 },
 "nbformat": 4,
 "nbformat_minor": 2
}
